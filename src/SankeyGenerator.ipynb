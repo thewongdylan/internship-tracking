{
 "cells": [
  {
   "cell_type": "code",
   "execution_count": 1,
   "metadata": {},
   "outputs": [],
   "source": [
    "# Imports\n",
    "import pandas as pd\n",
    "import numpy as np\n",
    "from decouple import config\n",
    "import plotly.graph_objects as go\n",
    "from datetime import datetime\n",
    "import warnings\n",
    "\n",
    "warnings.simplefilter(action='ignore', category=FutureWarning)"
   ]
  },
  {
   "cell_type": "markdown",
   "metadata": {},
   "source": [
    "# Extracting data from GSheets"
   ]
  },
  {
   "cell_type": "code",
   "execution_count": 2,
   "metadata": {},
   "outputs": [
    {
     "data": {
      "text/html": [
       "<div>\n",
       "<style scoped>\n",
       "    .dataframe tbody tr th:only-of-type {\n",
       "        vertical-align: middle;\n",
       "    }\n",
       "\n",
       "    .dataframe tbody tr th {\n",
       "        vertical-align: top;\n",
       "    }\n",
       "\n",
       "    .dataframe thead th {\n",
       "        text-align: right;\n",
       "    }\n",
       "</style>\n",
       "<table border=\"1\" class=\"dataframe\">\n",
       "  <thead>\n",
       "    <tr style=\"text-align: right;\">\n",
       "      <th></th>\n",
       "      <th>S/N</th>\n",
       "      <th>Company</th>\n",
       "      <th>Position</th>\n",
       "      <th>Status 1</th>\n",
       "      <th>Status 2</th>\n",
       "      <th>Status 3</th>\n",
       "      <th>Status 4</th>\n",
       "      <th>Date Applied</th>\n",
       "      <th>Source</th>\n",
       "      <th>Link</th>\n",
       "      <th>...</th>\n",
       "      <th>Unnamed: 20</th>\n",
       "      <th>Unnamed: 21</th>\n",
       "      <th>Unnamed: 22</th>\n",
       "      <th>Unnamed: 23</th>\n",
       "      <th>Unnamed: 24</th>\n",
       "      <th>Unnamed: 25</th>\n",
       "      <th>Unnamed: 26</th>\n",
       "      <th>Unnamed: 27</th>\n",
       "      <th>Unnamed: 28</th>\n",
       "      <th>Unnamed: 29</th>\n",
       "    </tr>\n",
       "  </thead>\n",
       "  <tbody>\n",
       "    <tr>\n",
       "      <th>0</th>\n",
       "      <td>1</td>\n",
       "      <td>Thales</td>\n",
       "      <td>Software Engineer Intern</td>\n",
       "      <td>Rejected</td>\n",
       "      <td>NaN</td>\n",
       "      <td>NaN</td>\n",
       "      <td>NaN</td>\n",
       "      <td>27/03/2024</td>\n",
       "      <td>LinkedIn</td>\n",
       "      <td>https://careers.thalesgroup.com/global/en/job/...</td>\n",
       "      <td>...</td>\n",
       "      <td>NaN</td>\n",
       "      <td>NaN</td>\n",
       "      <td>NaN</td>\n",
       "      <td>NaN</td>\n",
       "      <td>NaN</td>\n",
       "      <td>NaN</td>\n",
       "      <td>NaN</td>\n",
       "      <td>NaN</td>\n",
       "      <td>NaN</td>\n",
       "      <td>NaN</td>\n",
       "    </tr>\n",
       "    <tr>\n",
       "      <th>1</th>\n",
       "      <td>2</td>\n",
       "      <td>Garda Capital Partners</td>\n",
       "      <td>Software Engineer Intern (Python)</td>\n",
       "      <td>NaN</td>\n",
       "      <td>NaN</td>\n",
       "      <td>NaN</td>\n",
       "      <td>NaN</td>\n",
       "      <td>27/03/2024</td>\n",
       "      <td>LinkedIn</td>\n",
       "      <td>https://boards.greenhouse.io/gardacp/jobs/4174...</td>\n",
       "      <td>...</td>\n",
       "      <td>NaN</td>\n",
       "      <td>NaN</td>\n",
       "      <td>NaN</td>\n",
       "      <td>NaN</td>\n",
       "      <td>NaN</td>\n",
       "      <td>NaN</td>\n",
       "      <td>NaN</td>\n",
       "      <td>NaN</td>\n",
       "      <td>NaN</td>\n",
       "      <td>NaN</td>\n",
       "    </tr>\n",
       "    <tr>\n",
       "      <th>2</th>\n",
       "      <td>3</td>\n",
       "      <td>Hudson River Trading</td>\n",
       "      <td>Software Engineer Intern</td>\n",
       "      <td>Rejected</td>\n",
       "      <td>NaN</td>\n",
       "      <td>NaN</td>\n",
       "      <td>NaN</td>\n",
       "      <td>27/03/2024</td>\n",
       "      <td>LinkedIn</td>\n",
       "      <td>https://boards.greenhouse.io/wehrtyou/jobs/532...</td>\n",
       "      <td>...</td>\n",
       "      <td>NaN</td>\n",
       "      <td>NaN</td>\n",
       "      <td>NaN</td>\n",
       "      <td>NaN</td>\n",
       "      <td>NaN</td>\n",
       "      <td>NaN</td>\n",
       "      <td>NaN</td>\n",
       "      <td>NaN</td>\n",
       "      <td>NaN</td>\n",
       "      <td>NaN</td>\n",
       "    </tr>\n",
       "    <tr>\n",
       "      <th>3</th>\n",
       "      <td>4</td>\n",
       "      <td>ByteDance</td>\n",
       "      <td>Data Center Development Intern (International ...</td>\n",
       "      <td>Technical Assessment</td>\n",
       "      <td>Rejected</td>\n",
       "      <td>NaN</td>\n",
       "      <td>NaN</td>\n",
       "      <td>27/03/2024</td>\n",
       "      <td>LinkedIn</td>\n",
       "      <td>https://jobs.bytedance.com/en/position/7259704...</td>\n",
       "      <td>...</td>\n",
       "      <td>NaN</td>\n",
       "      <td>NaN</td>\n",
       "      <td>NaN</td>\n",
       "      <td>NaN</td>\n",
       "      <td>NaN</td>\n",
       "      <td>NaN</td>\n",
       "      <td>NaN</td>\n",
       "      <td>NaN</td>\n",
       "      <td>NaN</td>\n",
       "      <td>NaN</td>\n",
       "    </tr>\n",
       "    <tr>\n",
       "      <th>4</th>\n",
       "      <td>5</td>\n",
       "      <td>FlexoSense</td>\n",
       "      <td>Intern - Software development - app/dashboard</td>\n",
       "      <td>NaN</td>\n",
       "      <td>NaN</td>\n",
       "      <td>NaN</td>\n",
       "      <td>NaN</td>\n",
       "      <td>27/03/2024</td>\n",
       "      <td>NUS TalentConnect</td>\n",
       "      <td>https://nus-csm.symplicity.com/students/app/jo...</td>\n",
       "      <td>...</td>\n",
       "      <td>NaN</td>\n",
       "      <td>NaN</td>\n",
       "      <td>NaN</td>\n",
       "      <td>NaN</td>\n",
       "      <td>NaN</td>\n",
       "      <td>NaN</td>\n",
       "      <td>NaN</td>\n",
       "      <td>NaN</td>\n",
       "      <td>NaN</td>\n",
       "      <td>NaN</td>\n",
       "    </tr>\n",
       "    <tr>\n",
       "      <th>...</th>\n",
       "      <td>...</td>\n",
       "      <td>...</td>\n",
       "      <td>...</td>\n",
       "      <td>...</td>\n",
       "      <td>...</td>\n",
       "      <td>...</td>\n",
       "      <td>...</td>\n",
       "      <td>...</td>\n",
       "      <td>...</td>\n",
       "      <td>...</td>\n",
       "      <td>...</td>\n",
       "      <td>...</td>\n",
       "      <td>...</td>\n",
       "      <td>...</td>\n",
       "      <td>...</td>\n",
       "      <td>...</td>\n",
       "      <td>...</td>\n",
       "      <td>...</td>\n",
       "      <td>...</td>\n",
       "      <td>...</td>\n",
       "      <td>...</td>\n",
       "    </tr>\n",
       "    <tr>\n",
       "      <th>195</th>\n",
       "      <td>196</td>\n",
       "      <td>NaN</td>\n",
       "      <td>NaN</td>\n",
       "      <td>NaN</td>\n",
       "      <td>NaN</td>\n",
       "      <td>NaN</td>\n",
       "      <td>NaN</td>\n",
       "      <td>NaN</td>\n",
       "      <td>NaN</td>\n",
       "      <td>NaN</td>\n",
       "      <td>...</td>\n",
       "      <td>NaN</td>\n",
       "      <td>NaN</td>\n",
       "      <td>NaN</td>\n",
       "      <td>NaN</td>\n",
       "      <td>NaN</td>\n",
       "      <td>NaN</td>\n",
       "      <td>NaN</td>\n",
       "      <td>NaN</td>\n",
       "      <td>NaN</td>\n",
       "      <td>NaN</td>\n",
       "    </tr>\n",
       "    <tr>\n",
       "      <th>196</th>\n",
       "      <td>197</td>\n",
       "      <td>NaN</td>\n",
       "      <td>NaN</td>\n",
       "      <td>NaN</td>\n",
       "      <td>NaN</td>\n",
       "      <td>NaN</td>\n",
       "      <td>NaN</td>\n",
       "      <td>NaN</td>\n",
       "      <td>NaN</td>\n",
       "      <td>NaN</td>\n",
       "      <td>...</td>\n",
       "      <td>NaN</td>\n",
       "      <td>NaN</td>\n",
       "      <td>NaN</td>\n",
       "      <td>NaN</td>\n",
       "      <td>NaN</td>\n",
       "      <td>NaN</td>\n",
       "      <td>NaN</td>\n",
       "      <td>NaN</td>\n",
       "      <td>NaN</td>\n",
       "      <td>NaN</td>\n",
       "    </tr>\n",
       "    <tr>\n",
       "      <th>197</th>\n",
       "      <td>198</td>\n",
       "      <td>NaN</td>\n",
       "      <td>NaN</td>\n",
       "      <td>NaN</td>\n",
       "      <td>NaN</td>\n",
       "      <td>NaN</td>\n",
       "      <td>NaN</td>\n",
       "      <td>NaN</td>\n",
       "      <td>NaN</td>\n",
       "      <td>NaN</td>\n",
       "      <td>...</td>\n",
       "      <td>NaN</td>\n",
       "      <td>NaN</td>\n",
       "      <td>NaN</td>\n",
       "      <td>NaN</td>\n",
       "      <td>NaN</td>\n",
       "      <td>NaN</td>\n",
       "      <td>NaN</td>\n",
       "      <td>NaN</td>\n",
       "      <td>NaN</td>\n",
       "      <td>NaN</td>\n",
       "    </tr>\n",
       "    <tr>\n",
       "      <th>198</th>\n",
       "      <td>199</td>\n",
       "      <td>NaN</td>\n",
       "      <td>NaN</td>\n",
       "      <td>NaN</td>\n",
       "      <td>NaN</td>\n",
       "      <td>NaN</td>\n",
       "      <td>NaN</td>\n",
       "      <td>NaN</td>\n",
       "      <td>NaN</td>\n",
       "      <td>NaN</td>\n",
       "      <td>...</td>\n",
       "      <td>NaN</td>\n",
       "      <td>NaN</td>\n",
       "      <td>NaN</td>\n",
       "      <td>NaN</td>\n",
       "      <td>NaN</td>\n",
       "      <td>NaN</td>\n",
       "      <td>NaN</td>\n",
       "      <td>NaN</td>\n",
       "      <td>NaN</td>\n",
       "      <td>NaN</td>\n",
       "    </tr>\n",
       "    <tr>\n",
       "      <th>199</th>\n",
       "      <td>200</td>\n",
       "      <td>NaN</td>\n",
       "      <td>NaN</td>\n",
       "      <td>NaN</td>\n",
       "      <td>NaN</td>\n",
       "      <td>NaN</td>\n",
       "      <td>NaN</td>\n",
       "      <td>NaN</td>\n",
       "      <td>NaN</td>\n",
       "      <td>NaN</td>\n",
       "      <td>...</td>\n",
       "      <td>NaN</td>\n",
       "      <td>NaN</td>\n",
       "      <td>NaN</td>\n",
       "      <td>NaN</td>\n",
       "      <td>NaN</td>\n",
       "      <td>NaN</td>\n",
       "      <td>NaN</td>\n",
       "      <td>NaN</td>\n",
       "      <td>NaN</td>\n",
       "      <td>NaN</td>\n",
       "    </tr>\n",
       "  </tbody>\n",
       "</table>\n",
       "<p>200 rows × 30 columns</p>\n",
       "</div>"
      ],
      "text/plain": [
       "     S/N                 Company  \\\n",
       "0      1                  Thales   \n",
       "1      2  Garda Capital Partners   \n",
       "2      3    Hudson River Trading   \n",
       "3      4               ByteDance   \n",
       "4      5              FlexoSense   \n",
       "..   ...                     ...   \n",
       "195  196                     NaN   \n",
       "196  197                     NaN   \n",
       "197  198                     NaN   \n",
       "198  199                     NaN   \n",
       "199  200                     NaN   \n",
       "\n",
       "                                              Position              Status 1  \\\n",
       "0                             Software Engineer Intern              Rejected   \n",
       "1                    Software Engineer Intern (Python)                   NaN   \n",
       "2                             Software Engineer Intern              Rejected   \n",
       "3    Data Center Development Intern (International ...  Technical Assessment   \n",
       "4        Intern - Software development - app/dashboard                   NaN   \n",
       "..                                                 ...                   ...   \n",
       "195                                                NaN                   NaN   \n",
       "196                                                NaN                   NaN   \n",
       "197                                                NaN                   NaN   \n",
       "198                                                NaN                   NaN   \n",
       "199                                                NaN                   NaN   \n",
       "\n",
       "     Status 2 Status 3 Status 4 Date Applied             Source  \\\n",
       "0         NaN      NaN      NaN   27/03/2024           LinkedIn   \n",
       "1         NaN      NaN      NaN   27/03/2024           LinkedIn   \n",
       "2         NaN      NaN      NaN   27/03/2024           LinkedIn   \n",
       "3    Rejected      NaN      NaN   27/03/2024           LinkedIn   \n",
       "4         NaN      NaN      NaN   27/03/2024  NUS TalentConnect   \n",
       "..        ...      ...      ...          ...                ...   \n",
       "195       NaN      NaN      NaN          NaN                NaN   \n",
       "196       NaN      NaN      NaN          NaN                NaN   \n",
       "197       NaN      NaN      NaN          NaN                NaN   \n",
       "198       NaN      NaN      NaN          NaN                NaN   \n",
       "199       NaN      NaN      NaN          NaN                NaN   \n",
       "\n",
       "                                                  Link  ...  Unnamed: 20  \\\n",
       "0    https://careers.thalesgroup.com/global/en/job/...  ...          NaN   \n",
       "1    https://boards.greenhouse.io/gardacp/jobs/4174...  ...          NaN   \n",
       "2    https://boards.greenhouse.io/wehrtyou/jobs/532...  ...          NaN   \n",
       "3    https://jobs.bytedance.com/en/position/7259704...  ...          NaN   \n",
       "4    https://nus-csm.symplicity.com/students/app/jo...  ...          NaN   \n",
       "..                                                 ...  ...          ...   \n",
       "195                                                NaN  ...          NaN   \n",
       "196                                                NaN  ...          NaN   \n",
       "197                                                NaN  ...          NaN   \n",
       "198                                                NaN  ...          NaN   \n",
       "199                                                NaN  ...          NaN   \n",
       "\n",
       "     Unnamed: 21  Unnamed: 22  Unnamed: 23  Unnamed: 24  Unnamed: 25  \\\n",
       "0            NaN          NaN          NaN          NaN          NaN   \n",
       "1            NaN          NaN          NaN          NaN          NaN   \n",
       "2            NaN          NaN          NaN          NaN          NaN   \n",
       "3            NaN          NaN          NaN          NaN          NaN   \n",
       "4            NaN          NaN          NaN          NaN          NaN   \n",
       "..           ...          ...          ...          ...          ...   \n",
       "195          NaN          NaN          NaN          NaN          NaN   \n",
       "196          NaN          NaN          NaN          NaN          NaN   \n",
       "197          NaN          NaN          NaN          NaN          NaN   \n",
       "198          NaN          NaN          NaN          NaN          NaN   \n",
       "199          NaN          NaN          NaN          NaN          NaN   \n",
       "\n",
       "     Unnamed: 26  Unnamed: 27  Unnamed: 28  Unnamed: 29  \n",
       "0            NaN          NaN          NaN          NaN  \n",
       "1            NaN          NaN          NaN          NaN  \n",
       "2            NaN          NaN          NaN          NaN  \n",
       "3            NaN          NaN          NaN          NaN  \n",
       "4            NaN          NaN          NaN          NaN  \n",
       "..           ...          ...          ...          ...  \n",
       "195          NaN          NaN          NaN          NaN  \n",
       "196          NaN          NaN          NaN          NaN  \n",
       "197          NaN          NaN          NaN          NaN  \n",
       "198          NaN          NaN          NaN          NaN  \n",
       "199          NaN          NaN          NaN          NaN  \n",
       "\n",
       "[200 rows x 30 columns]"
      ]
     },
     "execution_count": 2,
     "metadata": {},
     "output_type": "execute_result"
    }
   ],
   "source": [
    "# Connect to GSheets\n",
    "sheet_id = config(\"SHEET_ID\")\n",
    "sheet_name = \"Applications\"\n",
    "sheet_url = f\"https://docs.google.com/spreadsheets/d/{sheet_id}/gviz/tq?tqx=out:csv&sheet={sheet_name}\"\n",
    "applications_raw = pd.read_csv(sheet_url)\n",
    "applications_raw"
   ]
  },
  {
   "cell_type": "code",
   "execution_count": 3,
   "metadata": {},
   "outputs": [
    {
     "name": "stderr",
     "output_type": "stream",
     "text": [
      "/var/folders/lh/z5tbmkb917q03kyx2d6ncdzr0000gn/T/ipykernel_18911/4038210855.py:3: SettingWithCopyWarning: \n",
      "A value is trying to be set on a copy of a slice from a DataFrame\n",
      "\n",
      "See the caveats in the documentation: https://pandas.pydata.org/pandas-docs/stable/user_guide/indexing.html#returning-a-view-versus-a-copy\n",
      "  applications.drop(columns=['S/N', 'Company', 'Position', 'Date Applied', 'Link'], inplace=True)\n",
      "/var/folders/lh/z5tbmkb917q03kyx2d6ncdzr0000gn/T/ipykernel_18911/4038210855.py:4: SettingWithCopyWarning: \n",
      "A value is trying to be set on a copy of a slice from a DataFrame\n",
      "\n",
      "See the caveats in the documentation: https://pandas.pydata.org/pandas-docs/stable/user_guide/indexing.html#returning-a-view-versus-a-copy\n",
      "  applications.dropna(how='all', axis=0, inplace=True)\n"
     ]
    },
    {
     "data": {
      "text/html": [
       "<div>\n",
       "<style scoped>\n",
       "    .dataframe tbody tr th:only-of-type {\n",
       "        vertical-align: middle;\n",
       "    }\n",
       "\n",
       "    .dataframe tbody tr th {\n",
       "        vertical-align: top;\n",
       "    }\n",
       "\n",
       "    .dataframe thead th {\n",
       "        text-align: right;\n",
       "    }\n",
       "</style>\n",
       "<table border=\"1\" class=\"dataframe\">\n",
       "  <thead>\n",
       "    <tr style=\"text-align: right;\">\n",
       "      <th></th>\n",
       "      <th>Status 1</th>\n",
       "      <th>Status 2</th>\n",
       "      <th>Status 3</th>\n",
       "      <th>Status 4</th>\n",
       "      <th>Source</th>\n",
       "    </tr>\n",
       "  </thead>\n",
       "  <tbody>\n",
       "    <tr>\n",
       "      <th>0</th>\n",
       "      <td>Rejected</td>\n",
       "      <td>NaN</td>\n",
       "      <td>NaN</td>\n",
       "      <td>NaN</td>\n",
       "      <td>LinkedIn</td>\n",
       "    </tr>\n",
       "    <tr>\n",
       "      <th>1</th>\n",
       "      <td>NaN</td>\n",
       "      <td>NaN</td>\n",
       "      <td>NaN</td>\n",
       "      <td>NaN</td>\n",
       "      <td>LinkedIn</td>\n",
       "    </tr>\n",
       "    <tr>\n",
       "      <th>2</th>\n",
       "      <td>Rejected</td>\n",
       "      <td>NaN</td>\n",
       "      <td>NaN</td>\n",
       "      <td>NaN</td>\n",
       "      <td>LinkedIn</td>\n",
       "    </tr>\n",
       "    <tr>\n",
       "      <th>3</th>\n",
       "      <td>Technical Assessment</td>\n",
       "      <td>Rejected</td>\n",
       "      <td>NaN</td>\n",
       "      <td>NaN</td>\n",
       "      <td>LinkedIn</td>\n",
       "    </tr>\n",
       "    <tr>\n",
       "      <th>4</th>\n",
       "      <td>NaN</td>\n",
       "      <td>NaN</td>\n",
       "      <td>NaN</td>\n",
       "      <td>NaN</td>\n",
       "      <td>NUS TalentConnect</td>\n",
       "    </tr>\n",
       "    <tr>\n",
       "      <th>...</th>\n",
       "      <td>...</td>\n",
       "      <td>...</td>\n",
       "      <td>...</td>\n",
       "      <td>...</td>\n",
       "      <td>...</td>\n",
       "    </tr>\n",
       "    <tr>\n",
       "      <th>159</th>\n",
       "      <td>NaN</td>\n",
       "      <td>NaN</td>\n",
       "      <td>NaN</td>\n",
       "      <td>NaN</td>\n",
       "      <td>LinkedIn</td>\n",
       "    </tr>\n",
       "    <tr>\n",
       "      <th>160</th>\n",
       "      <td>NaN</td>\n",
       "      <td>NaN</td>\n",
       "      <td>NaN</td>\n",
       "      <td>NaN</td>\n",
       "      <td>LinkedIn</td>\n",
       "    </tr>\n",
       "    <tr>\n",
       "      <th>161</th>\n",
       "      <td>NaN</td>\n",
       "      <td>NaN</td>\n",
       "      <td>NaN</td>\n",
       "      <td>NaN</td>\n",
       "      <td>LinkedIn</td>\n",
       "    </tr>\n",
       "    <tr>\n",
       "      <th>162</th>\n",
       "      <td>NaN</td>\n",
       "      <td>NaN</td>\n",
       "      <td>NaN</td>\n",
       "      <td>NaN</td>\n",
       "      <td>LinkedIn</td>\n",
       "    </tr>\n",
       "    <tr>\n",
       "      <th>163</th>\n",
       "      <td>Rejected</td>\n",
       "      <td>NaN</td>\n",
       "      <td>NaN</td>\n",
       "      <td>NaN</td>\n",
       "      <td>LinkedIn</td>\n",
       "    </tr>\n",
       "  </tbody>\n",
       "</table>\n",
       "<p>164 rows × 5 columns</p>\n",
       "</div>"
      ],
      "text/plain": [
       "                 Status 1  Status 2 Status 3 Status 4             Source\n",
       "0                Rejected       NaN      NaN      NaN           LinkedIn\n",
       "1                     NaN       NaN      NaN      NaN           LinkedIn\n",
       "2                Rejected       NaN      NaN      NaN           LinkedIn\n",
       "3    Technical Assessment  Rejected      NaN      NaN           LinkedIn\n",
       "4                     NaN       NaN      NaN      NaN  NUS TalentConnect\n",
       "..                    ...       ...      ...      ...                ...\n",
       "159                   NaN       NaN      NaN      NaN           LinkedIn\n",
       "160                   NaN       NaN      NaN      NaN           LinkedIn\n",
       "161                   NaN       NaN      NaN      NaN           LinkedIn\n",
       "162                   NaN       NaN      NaN      NaN           LinkedIn\n",
       "163              Rejected       NaN      NaN      NaN           LinkedIn\n",
       "\n",
       "[164 rows x 5 columns]"
      ]
     },
     "execution_count": 3,
     "metadata": {},
     "output_type": "execute_result"
    }
   ],
   "source": [
    "# Cleaning\n",
    "applications = applications_raw.dropna(how='all', axis=1)\n",
    "applications.drop(columns=['S/N', 'Company', 'Position', 'Date Applied', 'Link'], inplace=True)\n",
    "applications.dropna(how='all', axis=0, inplace=True)\n",
    "\n",
    "applications"
   ]
  },
  {
   "cell_type": "code",
   "execution_count": 4,
   "metadata": {},
   "outputs": [
    {
     "name": "stdout",
     "output_type": "stream",
     "text": [
      "['LinkedIn', 'NUS TalentConnect', 'Indeed', 'Friends', 'NUS SWS', 'Email', 'NUS IAAS']\n",
      "['Accepted', 'Online Interview', 'DNF', 'Offered', 'On-site Interview', 'Rejected', 'Declined', 'Technical Assessment']\n",
      "['Online Interview', 'On-site Interview', 'Technical Assessment']\n",
      "['Applications', 'No reply', 'LinkedIn', 'NUS TalentConnect', 'Indeed', 'Friends', 'NUS SWS', 'Email', 'NUS IAAS', 'Accepted', 'Online Interview', 'DNF', 'Offered', 'On-site Interview', 'Rejected', 'Declined', 'Technical Assessment']\n",
      "['Applications: 164', 'No reply: 127', 'LinkedIn: 48', 'NUS TalentConnect: 21', 'Indeed: 78', 'Friends: 2', 'NUS SWS: 8', 'Email: 2', 'NUS IAAS: 5', 'Accepted: 1', 'Online Interview: 5', 'DNF: 1', 'Offered: 2', 'On-site Interview: 1', 'Rejected: 33', 'Declined: 1', 'Technical Assessment: 5']\n"
     ]
    }
   ],
   "source": [
    "# Lists of unique values for various phases\n",
    "job_sources = applications['Source'].unique().tolist()\n",
    "\n",
    "status_stages = [stage for stage in applications.columns if stage.startswith('Status')]\n",
    "for i in range(len(status_stages)):\n",
    "    if i == 0:\n",
    "        statuses = applications[status_stages[i]].unique().tolist()\n",
    "    else:\n",
    "        statuses.extend(applications[status_stages[i]].unique().tolist())\n",
    "statuses = list(set(statuses))\n",
    "statuses.remove(np.nan)\n",
    "\n",
    "intermediate_statuses = statuses.copy()\n",
    "to_remove = ['Rejected', 'DNF', 'Offered', 'Accepted', 'Declined']\n",
    "for item in to_remove:\n",
    "    if item in intermediate_statuses:\n",
    "        intermediate_statuses.remove(item)\n",
    "\n",
    "unique_nodes = ['Applications', 'No reply']\n",
    "unique_nodes += job_sources + statuses\n",
    "\n",
    "node_value_counts = {node: 0 for node in unique_nodes}\n",
    "job_sources_count = applications['Source'].value_counts().to_dict()\n",
    "for source in job_sources_count:\n",
    "    node_value_counts[source] += job_sources_count[source]\n",
    "for stage in status_stages: \n",
    "    status_count = applications[stage].value_counts().to_dict()\n",
    "    for status in status_count:\n",
    "        node_value_counts[status] += status_count[status]\n",
    "node_value_counts['Applications'] = len(applications)\n",
    "node_value_counts['No reply'] = len(applications[applications['Status 1'].isna() & applications['Status 2'].isna()])\n",
    "\n",
    "unique_nodes_with_values = [node + ': ' + str(node_value_counts[node]) for node in node_value_counts]\n",
    "\n",
    "print(job_sources)\n",
    "print(statuses)\n",
    "print(intermediate_statuses)\n",
    "print(unique_nodes)\n",
    "print(unique_nodes_with_values)"
   ]
  },
  {
   "cell_type": "code",
   "execution_count": 5,
   "metadata": {},
   "outputs": [
    {
     "data": {
      "text/html": [
       "<div>\n",
       "<style scoped>\n",
       "    .dataframe tbody tr th:only-of-type {\n",
       "        vertical-align: middle;\n",
       "    }\n",
       "\n",
       "    .dataframe tbody tr th {\n",
       "        vertical-align: top;\n",
       "    }\n",
       "\n",
       "    .dataframe thead th {\n",
       "        text-align: right;\n",
       "    }\n",
       "</style>\n",
       "<table border=\"1\" class=\"dataframe\">\n",
       "  <thead>\n",
       "    <tr style=\"text-align: right;\">\n",
       "      <th></th>\n",
       "      <th>source</th>\n",
       "      <th>target</th>\n",
       "      <th>value</th>\n",
       "    </tr>\n",
       "  </thead>\n",
       "  <tbody>\n",
       "    <tr>\n",
       "      <th>0</th>\n",
       "      <td>Applications</td>\n",
       "      <td>Indeed</td>\n",
       "      <td>78</td>\n",
       "    </tr>\n",
       "    <tr>\n",
       "      <th>1</th>\n",
       "      <td>Applications</td>\n",
       "      <td>LinkedIn</td>\n",
       "      <td>48</td>\n",
       "    </tr>\n",
       "    <tr>\n",
       "      <th>2</th>\n",
       "      <td>Applications</td>\n",
       "      <td>NUS TalentConnect</td>\n",
       "      <td>21</td>\n",
       "    </tr>\n",
       "    <tr>\n",
       "      <th>3</th>\n",
       "      <td>Applications</td>\n",
       "      <td>NUS SWS</td>\n",
       "      <td>8</td>\n",
       "    </tr>\n",
       "    <tr>\n",
       "      <th>4</th>\n",
       "      <td>Applications</td>\n",
       "      <td>NUS IAAS</td>\n",
       "      <td>5</td>\n",
       "    </tr>\n",
       "    <tr>\n",
       "      <th>5</th>\n",
       "      <td>Applications</td>\n",
       "      <td>Friends</td>\n",
       "      <td>2</td>\n",
       "    </tr>\n",
       "    <tr>\n",
       "      <th>6</th>\n",
       "      <td>Applications</td>\n",
       "      <td>Email</td>\n",
       "      <td>2</td>\n",
       "    </tr>\n",
       "    <tr>\n",
       "      <th>7</th>\n",
       "      <td>LinkedIn</td>\n",
       "      <td>Rejected</td>\n",
       "      <td>13</td>\n",
       "    </tr>\n",
       "    <tr>\n",
       "      <th>8</th>\n",
       "      <td>LinkedIn</td>\n",
       "      <td>No reply</td>\n",
       "      <td>33</td>\n",
       "    </tr>\n",
       "    <tr>\n",
       "      <th>9</th>\n",
       "      <td>LinkedIn</td>\n",
       "      <td>Technical Assessment</td>\n",
       "      <td>2</td>\n",
       "    </tr>\n",
       "    <tr>\n",
       "      <th>10</th>\n",
       "      <td>NUS TalentConnect</td>\n",
       "      <td>No reply</td>\n",
       "      <td>21</td>\n",
       "    </tr>\n",
       "    <tr>\n",
       "      <th>11</th>\n",
       "      <td>Indeed</td>\n",
       "      <td>No reply</td>\n",
       "      <td>62</td>\n",
       "    </tr>\n",
       "    <tr>\n",
       "      <th>12</th>\n",
       "      <td>Indeed</td>\n",
       "      <td>Rejected</td>\n",
       "      <td>12</td>\n",
       "    </tr>\n",
       "    <tr>\n",
       "      <th>13</th>\n",
       "      <td>Friends</td>\n",
       "      <td>No reply</td>\n",
       "      <td>1</td>\n",
       "    </tr>\n",
       "    <tr>\n",
       "      <th>14</th>\n",
       "      <td>NUS SWS</td>\n",
       "      <td>No reply</td>\n",
       "      <td>7</td>\n",
       "    </tr>\n",
       "    <tr>\n",
       "      <th>15</th>\n",
       "      <td>Indeed</td>\n",
       "      <td>Online Interview</td>\n",
       "      <td>2</td>\n",
       "    </tr>\n",
       "    <tr>\n",
       "      <th>16</th>\n",
       "      <td>Email</td>\n",
       "      <td>No reply</td>\n",
       "      <td>2</td>\n",
       "    </tr>\n",
       "    <tr>\n",
       "      <th>17</th>\n",
       "      <td>Friends</td>\n",
       "      <td>Rejected</td>\n",
       "      <td>1</td>\n",
       "    </tr>\n",
       "    <tr>\n",
       "      <th>18</th>\n",
       "      <td>Indeed</td>\n",
       "      <td>Technical Assessment</td>\n",
       "      <td>2</td>\n",
       "    </tr>\n",
       "    <tr>\n",
       "      <th>19</th>\n",
       "      <td>NUS IAAS</td>\n",
       "      <td>Rejected</td>\n",
       "      <td>3</td>\n",
       "    </tr>\n",
       "    <tr>\n",
       "      <th>20</th>\n",
       "      <td>NUS IAAS</td>\n",
       "      <td>Online Interview</td>\n",
       "      <td>1</td>\n",
       "    </tr>\n",
       "    <tr>\n",
       "      <th>21</th>\n",
       "      <td>NUS IAAS</td>\n",
       "      <td>No reply</td>\n",
       "      <td>1</td>\n",
       "    </tr>\n",
       "    <tr>\n",
       "      <th>22</th>\n",
       "      <td>NUS SWS</td>\n",
       "      <td>Technical Assessment</td>\n",
       "      <td>1</td>\n",
       "    </tr>\n",
       "    <tr>\n",
       "      <th>23</th>\n",
       "      <td>Technical Assessment</td>\n",
       "      <td>Rejected</td>\n",
       "      <td>1</td>\n",
       "    </tr>\n",
       "    <tr>\n",
       "      <th>24</th>\n",
       "      <td>Technical Assessment</td>\n",
       "      <td>DNF</td>\n",
       "      <td>1</td>\n",
       "    </tr>\n",
       "    <tr>\n",
       "      <th>25</th>\n",
       "      <td>Online Interview</td>\n",
       "      <td>Rejected</td>\n",
       "      <td>2</td>\n",
       "    </tr>\n",
       "    <tr>\n",
       "      <th>26</th>\n",
       "      <td>Technical Assessment</td>\n",
       "      <td>Online Interview</td>\n",
       "      <td>2</td>\n",
       "    </tr>\n",
       "    <tr>\n",
       "      <th>27</th>\n",
       "      <td>Technical Assessment</td>\n",
       "      <td>On-site Interview</td>\n",
       "      <td>1</td>\n",
       "    </tr>\n",
       "    <tr>\n",
       "      <th>28</th>\n",
       "      <td>Online Interview</td>\n",
       "      <td>Offered</td>\n",
       "      <td>1</td>\n",
       "    </tr>\n",
       "    <tr>\n",
       "      <th>29</th>\n",
       "      <td>Online Interview</td>\n",
       "      <td>Rejected</td>\n",
       "      <td>1</td>\n",
       "    </tr>\n",
       "    <tr>\n",
       "      <th>30</th>\n",
       "      <td>On-site Interview</td>\n",
       "      <td>Offered</td>\n",
       "      <td>1</td>\n",
       "    </tr>\n",
       "    <tr>\n",
       "      <th>31</th>\n",
       "      <td>Offered</td>\n",
       "      <td>Accepted</td>\n",
       "      <td>1</td>\n",
       "    </tr>\n",
       "    <tr>\n",
       "      <th>32</th>\n",
       "      <td>Offered</td>\n",
       "      <td>Declined</td>\n",
       "      <td>1</td>\n",
       "    </tr>\n",
       "  </tbody>\n",
       "</table>\n",
       "</div>"
      ],
      "text/plain": [
       "                  source                target value\n",
       "0           Applications                Indeed    78\n",
       "1           Applications              LinkedIn    48\n",
       "2           Applications     NUS TalentConnect    21\n",
       "3           Applications               NUS SWS     8\n",
       "4           Applications              NUS IAAS     5\n",
       "5           Applications               Friends     2\n",
       "6           Applications                 Email     2\n",
       "7               LinkedIn              Rejected    13\n",
       "8               LinkedIn              No reply    33\n",
       "9               LinkedIn  Technical Assessment     2\n",
       "10     NUS TalentConnect              No reply    21\n",
       "11                Indeed              No reply    62\n",
       "12                Indeed              Rejected    12\n",
       "13               Friends              No reply     1\n",
       "14               NUS SWS              No reply     7\n",
       "15                Indeed      Online Interview     2\n",
       "16                 Email              No reply     2\n",
       "17               Friends              Rejected     1\n",
       "18                Indeed  Technical Assessment     2\n",
       "19              NUS IAAS              Rejected     3\n",
       "20              NUS IAAS      Online Interview     1\n",
       "21              NUS IAAS              No reply     1\n",
       "22               NUS SWS  Technical Assessment     1\n",
       "23  Technical Assessment              Rejected     1\n",
       "24  Technical Assessment                   DNF     1\n",
       "25      Online Interview              Rejected     2\n",
       "26  Technical Assessment      Online Interview     2\n",
       "27  Technical Assessment     On-site Interview     1\n",
       "28      Online Interview               Offered     1\n",
       "29      Online Interview              Rejected     1\n",
       "30     On-site Interview               Offered     1\n",
       "31               Offered              Accepted     1\n",
       "32               Offered              Declined     1"
      ]
     },
     "execution_count": 5,
     "metadata": {},
     "output_type": "execute_result"
    }
   ],
   "source": [
    "# Converting data to format for plotly but still in human-readable format\n",
    "\n",
    "# Make df for sankey graph\n",
    "sankey_df = pd.DataFrame(columns=['source', 'target', 'value'])\n",
    "\n",
    "# Applications -> Source\n",
    "application_sources = applications['Source'].value_counts()\n",
    "for application_source in application_sources.index:\n",
    "    source = application_source\n",
    "    value = application_sources[application_source]\n",
    "    sankey_df = sankey_df._append({'source': 'Applications', 'target': source, 'value': value}, ignore_index=True)\n",
    "\n",
    "# Source -> Status 1\n",
    "application_statuses_1 = {}\n",
    "for index, row in applications.iterrows():\n",
    "    if pd.notna(row['Status 1']):\n",
    "        status_update_1 = row['Source'], row['Status 1']\n",
    "        if status_update_1 in application_statuses_1:\n",
    "            application_statuses_1[status_update_1] += 1\n",
    "        else:\n",
    "            application_statuses_1[status_update_1] = 1\n",
    "    else:\n",
    "        no_update_status = row['Source'], 'No reply'\n",
    "        if no_update_status in application_statuses_1:\n",
    "            application_statuses_1[no_update_status] += 1\n",
    "        else:\n",
    "            application_statuses_1[no_update_status] = 1\n",
    "\n",
    "for status_update_1 in application_statuses_1:\n",
    "    sankey_df = sankey_df._append({'source': status_update_1[0], 'target': status_update_1[1], 'value': application_statuses_1[status_update_1]}, ignore_index=True)\n",
    "\n",
    "# Status 1 -> Status 2\n",
    "# application_statuses_2 = {}\n",
    "# for index, row in applications.iterrows():\n",
    "#     if pd.notna(row['Status 2']):\n",
    "#         flow = row['Status 1'], row['Status 2']\n",
    "#         if flow in application_statuses_2:\n",
    "#             application_statuses_2[flow] += 1\n",
    "#         else:\n",
    "#             application_statuses_2[flow] = 1\n",
    "\n",
    "# for flow in application_statuses_2:\n",
    "#     sankey_df = sankey_df._append({'source': flow[0], 'target': flow[1], 'value': application_statuses_2[flow]}, ignore_index=True)\n",
    "\n",
    "# Status 1 -> Status N\n",
    "for i in range(len(status_stages)):\n",
    "    if i != 0:\n",
    "        application_statuses_i = {}\n",
    "        for index, row in applications.iterrows():\n",
    "            if pd.notna(row[status_stages[i]]):\n",
    "                flow = row[status_stages[i-1]], row[status_stages[i]]\n",
    "                if flow in application_statuses_i:\n",
    "                    application_statuses_i[flow] += 1\n",
    "                else:\n",
    "                    application_statuses_i[flow] = 1\n",
    "        \n",
    "        for flow in application_statuses_i:\n",
    "            sankey_df = sankey_df._append({'source': flow[0], 'target': flow[1], 'value': application_statuses_i[flow]}, ignore_index=True)\n",
    "\n",
    "sankey_df"
   ]
  },
  {
   "cell_type": "code",
   "execution_count": 6,
   "metadata": {},
   "outputs": [],
   "source": [
    "## Creating color references for nodes and links\n",
    "\n",
    "# Define variables for colors for easier modification\n",
    "node_blue = 'rgba(39, 125, 161, 1)'\n",
    "node_yellow = 'rgba(249, 199, 79, 1)'\n",
    "node_grey = 'rgba(173, 181, 189, 1)'\n",
    "node_red = 'rgba(249, 65, 68, 1)'\n",
    "node_green = 'rgba(67, 170, 139, 1)'\n",
    "node_black = 'rgba(0, 0, 0, 1)'\n",
    "link_blue = node_blue.replace('1)', '0.6)')\n",
    "link_yellow = node_yellow.replace('1)', '0.6)')\n",
    "link_grey = node_grey.replace('1)', '0.6)')\n",
    "link_red = node_red.replace('1)', '0.6)')\n",
    "link_green = node_green.replace('1)', '0.6)')\n",
    "link_black = node_black.replace('1)', '0.6)')\n",
    "\n",
    "\n",
    "node_colors = ['rgba(39, 125, 161, 1)'] # Applications unaccounted for but should already be in list\n",
    "for source_target in unique_nodes:\n",
    "    if source_target in job_sources:\n",
    "        node_colors.append(node_blue) \n",
    "    elif source_target in intermediate_statuses:\n",
    "        node_colors.append(node_yellow)\n",
    "    elif source_target == 'No reply':\n",
    "        node_colors.append(node_grey)\n",
    "    elif source_target == 'Rejected':\n",
    "        node_colors.append(node_red)\n",
    "    elif source_target == 'DNF':\n",
    "        node_colors.append(node_black)\n",
    "    elif source_target in ['Offered', 'Accepted', 'Declined']:\n",
    "        node_colors.append(node_green) \n",
    "\n",
    "link_colors = []\n",
    "for index, row in sankey_df.iterrows():\n",
    "    if row['target'] in job_sources:\n",
    "        link_colors.append(link_blue)\n",
    "    elif row['target'] in intermediate_statuses:\n",
    "        link_colors.append(link_yellow)\n",
    "    elif row['target'] == 'No reply':\n",
    "        link_colors.append(link_grey)\n",
    "    elif row['target'] == 'Rejected':\n",
    "        link_colors.append(link_red)\n",
    "    elif row['target'] == 'DNF':\n",
    "        link_colors.append(link_black)\n",
    "    elif row['target'] in ['Offered', 'Accepted', 'Declined']:\n",
    "        link_colors.append(link_green)"
   ]
  },
  {
   "cell_type": "code",
   "execution_count": 7,
   "metadata": {},
   "outputs": [
    {
     "data": {
      "text/html": [
       "<div>\n",
       "<style scoped>\n",
       "    .dataframe tbody tr th:only-of-type {\n",
       "        vertical-align: middle;\n",
       "    }\n",
       "\n",
       "    .dataframe tbody tr th {\n",
       "        vertical-align: top;\n",
       "    }\n",
       "\n",
       "    .dataframe thead th {\n",
       "        text-align: right;\n",
       "    }\n",
       "</style>\n",
       "<table border=\"1\" class=\"dataframe\">\n",
       "  <thead>\n",
       "    <tr style=\"text-align: right;\">\n",
       "      <th></th>\n",
       "      <th>source</th>\n",
       "      <th>target</th>\n",
       "      <th>value</th>\n",
       "    </tr>\n",
       "  </thead>\n",
       "  <tbody>\n",
       "    <tr>\n",
       "      <th>0</th>\n",
       "      <td>0</td>\n",
       "      <td>4</td>\n",
       "      <td>78</td>\n",
       "    </tr>\n",
       "    <tr>\n",
       "      <th>1</th>\n",
       "      <td>0</td>\n",
       "      <td>2</td>\n",
       "      <td>48</td>\n",
       "    </tr>\n",
       "    <tr>\n",
       "      <th>2</th>\n",
       "      <td>0</td>\n",
       "      <td>3</td>\n",
       "      <td>21</td>\n",
       "    </tr>\n",
       "    <tr>\n",
       "      <th>3</th>\n",
       "      <td>0</td>\n",
       "      <td>6</td>\n",
       "      <td>8</td>\n",
       "    </tr>\n",
       "    <tr>\n",
       "      <th>4</th>\n",
       "      <td>0</td>\n",
       "      <td>8</td>\n",
       "      <td>5</td>\n",
       "    </tr>\n",
       "    <tr>\n",
       "      <th>5</th>\n",
       "      <td>0</td>\n",
       "      <td>5</td>\n",
       "      <td>2</td>\n",
       "    </tr>\n",
       "    <tr>\n",
       "      <th>6</th>\n",
       "      <td>0</td>\n",
       "      <td>7</td>\n",
       "      <td>2</td>\n",
       "    </tr>\n",
       "    <tr>\n",
       "      <th>7</th>\n",
       "      <td>2</td>\n",
       "      <td>14</td>\n",
       "      <td>13</td>\n",
       "    </tr>\n",
       "    <tr>\n",
       "      <th>8</th>\n",
       "      <td>2</td>\n",
       "      <td>1</td>\n",
       "      <td>33</td>\n",
       "    </tr>\n",
       "    <tr>\n",
       "      <th>9</th>\n",
       "      <td>2</td>\n",
       "      <td>16</td>\n",
       "      <td>2</td>\n",
       "    </tr>\n",
       "    <tr>\n",
       "      <th>10</th>\n",
       "      <td>3</td>\n",
       "      <td>1</td>\n",
       "      <td>21</td>\n",
       "    </tr>\n",
       "    <tr>\n",
       "      <th>11</th>\n",
       "      <td>4</td>\n",
       "      <td>1</td>\n",
       "      <td>62</td>\n",
       "    </tr>\n",
       "    <tr>\n",
       "      <th>12</th>\n",
       "      <td>4</td>\n",
       "      <td>14</td>\n",
       "      <td>12</td>\n",
       "    </tr>\n",
       "    <tr>\n",
       "      <th>13</th>\n",
       "      <td>5</td>\n",
       "      <td>1</td>\n",
       "      <td>1</td>\n",
       "    </tr>\n",
       "    <tr>\n",
       "      <th>14</th>\n",
       "      <td>6</td>\n",
       "      <td>1</td>\n",
       "      <td>7</td>\n",
       "    </tr>\n",
       "    <tr>\n",
       "      <th>15</th>\n",
       "      <td>4</td>\n",
       "      <td>10</td>\n",
       "      <td>2</td>\n",
       "    </tr>\n",
       "    <tr>\n",
       "      <th>16</th>\n",
       "      <td>7</td>\n",
       "      <td>1</td>\n",
       "      <td>2</td>\n",
       "    </tr>\n",
       "    <tr>\n",
       "      <th>17</th>\n",
       "      <td>5</td>\n",
       "      <td>14</td>\n",
       "      <td>1</td>\n",
       "    </tr>\n",
       "    <tr>\n",
       "      <th>18</th>\n",
       "      <td>4</td>\n",
       "      <td>16</td>\n",
       "      <td>2</td>\n",
       "    </tr>\n",
       "    <tr>\n",
       "      <th>19</th>\n",
       "      <td>8</td>\n",
       "      <td>14</td>\n",
       "      <td>3</td>\n",
       "    </tr>\n",
       "    <tr>\n",
       "      <th>20</th>\n",
       "      <td>8</td>\n",
       "      <td>10</td>\n",
       "      <td>1</td>\n",
       "    </tr>\n",
       "    <tr>\n",
       "      <th>21</th>\n",
       "      <td>8</td>\n",
       "      <td>1</td>\n",
       "      <td>1</td>\n",
       "    </tr>\n",
       "    <tr>\n",
       "      <th>22</th>\n",
       "      <td>6</td>\n",
       "      <td>16</td>\n",
       "      <td>1</td>\n",
       "    </tr>\n",
       "    <tr>\n",
       "      <th>23</th>\n",
       "      <td>16</td>\n",
       "      <td>14</td>\n",
       "      <td>1</td>\n",
       "    </tr>\n",
       "    <tr>\n",
       "      <th>24</th>\n",
       "      <td>16</td>\n",
       "      <td>11</td>\n",
       "      <td>1</td>\n",
       "    </tr>\n",
       "    <tr>\n",
       "      <th>25</th>\n",
       "      <td>10</td>\n",
       "      <td>14</td>\n",
       "      <td>2</td>\n",
       "    </tr>\n",
       "    <tr>\n",
       "      <th>26</th>\n",
       "      <td>16</td>\n",
       "      <td>10</td>\n",
       "      <td>2</td>\n",
       "    </tr>\n",
       "    <tr>\n",
       "      <th>27</th>\n",
       "      <td>16</td>\n",
       "      <td>13</td>\n",
       "      <td>1</td>\n",
       "    </tr>\n",
       "    <tr>\n",
       "      <th>28</th>\n",
       "      <td>10</td>\n",
       "      <td>12</td>\n",
       "      <td>1</td>\n",
       "    </tr>\n",
       "    <tr>\n",
       "      <th>29</th>\n",
       "      <td>10</td>\n",
       "      <td>14</td>\n",
       "      <td>1</td>\n",
       "    </tr>\n",
       "    <tr>\n",
       "      <th>30</th>\n",
       "      <td>13</td>\n",
       "      <td>12</td>\n",
       "      <td>1</td>\n",
       "    </tr>\n",
       "    <tr>\n",
       "      <th>31</th>\n",
       "      <td>12</td>\n",
       "      <td>9</td>\n",
       "      <td>1</td>\n",
       "    </tr>\n",
       "    <tr>\n",
       "      <th>32</th>\n",
       "      <td>12</td>\n",
       "      <td>15</td>\n",
       "      <td>1</td>\n",
       "    </tr>\n",
       "  </tbody>\n",
       "</table>\n",
       "</div>"
      ],
      "text/plain": [
       "    source  target value\n",
       "0        0       4    78\n",
       "1        0       2    48\n",
       "2        0       3    21\n",
       "3        0       6     8\n",
       "4        0       8     5\n",
       "5        0       5     2\n",
       "6        0       7     2\n",
       "7        2      14    13\n",
       "8        2       1    33\n",
       "9        2      16     2\n",
       "10       3       1    21\n",
       "11       4       1    62\n",
       "12       4      14    12\n",
       "13       5       1     1\n",
       "14       6       1     7\n",
       "15       4      10     2\n",
       "16       7       1     2\n",
       "17       5      14     1\n",
       "18       4      16     2\n",
       "19       8      14     3\n",
       "20       8      10     1\n",
       "21       8       1     1\n",
       "22       6      16     1\n",
       "23      16      14     1\n",
       "24      16      11     1\n",
       "25      10      14     2\n",
       "26      16      10     2\n",
       "27      16      13     1\n",
       "28      10      12     1\n",
       "29      10      14     1\n",
       "30      13      12     1\n",
       "31      12       9     1\n",
       "32      12      15     1"
      ]
     },
     "execution_count": 7,
     "metadata": {},
     "output_type": "execute_result"
    }
   ],
   "source": [
    "## Conversion to plotly-readable format\n",
    "\n",
    "# # Generating labels with values\n",
    "# node_value_counts = sankey_df['source'].value_counts()\n",
    "# node_labels = [node for node in unique_nodes]\n",
    "\n",
    "# Assign unique number to each source/target\n",
    "mapping_dict = {k: v for v, k in enumerate(unique_nodes)}\n",
    "\n",
    "# Map the sources/targets to their unique number\n",
    "sankey_df['source'] = sankey_df['source'].map(mapping_dict)\n",
    "sankey_df['target'] = sankey_df['target'].map(mapping_dict)\n",
    "\n",
    "sankey_df"
   ]
  },
  {
   "cell_type": "code",
   "execution_count": 8,
   "metadata": {},
   "outputs": [],
   "source": [
    "# Explicitly assigning positions for nodes\n",
    "node_pos = {}\n",
    "node_pos['Applications'] = (0.1, 0.5)\n",
    "for job_source in job_sources:\n",
    "    node_pos[job_source] = (0.3, 0.1)\n",
    "\n",
    "node_pos['Rejected'] = (0.5, 0.9)\n",
    "\n",
    "node_pos['Technical Assessment'] = (0.55, 0.7)\n",
    "\n",
    "node_pos['No reply'] = (0.6, 0.1)\n",
    "node_pos['On-site Interview'] = (0.6, 0.675)\n",
    "node_pos['Online Interview'] = (0.6, 0.725)\n",
    "\n",
    "node_pos['DNF'] = (0.65, 0.85)\n",
    "\n",
    "node_pos['Offered'] = (0.8, 0.7)\n",
    "\n",
    "node_pos['Declined'] = (0.85, 0.75)\n",
    "node_pos['Accepted'] = (0.9, 0.65)\n",
    "\n",
    "node_x_pos = [node_pos[node][0] for node in unique_nodes]\n",
    "node_y_pos = [node_pos[node][1] for node in unique_nodes]\n"
   ]
  },
  {
   "cell_type": "code",
   "execution_count": 25,
   "metadata": {},
   "outputs": [
    {
     "data": {
      "application/vnd.plotly.v1+json": {
       "config": {
        "plotlyServerURL": "https://plot.ly"
       },
       "data": [
        {
         "arrangement": "snap",
         "link": {
          "color": [
           "rgba(39, 125, 161, 0.6)",
           "rgba(39, 125, 161, 0.6)",
           "rgba(39, 125, 161, 0.6)",
           "rgba(39, 125, 161, 0.6)",
           "rgba(39, 125, 161, 0.6)",
           "rgba(39, 125, 161, 0.6)",
           "rgba(39, 125, 161, 0.6)",
           "rgba(249, 65, 68, 0.6)",
           "rgba(173, 181, 189, 0.6)",
           "rgba(249, 199, 79, 0.6)",
           "rgba(173, 181, 189, 0.6)",
           "rgba(173, 181, 189, 0.6)",
           "rgba(249, 65, 68, 0.6)",
           "rgba(173, 181, 189, 0.6)",
           "rgba(173, 181, 189, 0.6)",
           "rgba(249, 199, 79, 0.6)",
           "rgba(173, 181, 189, 0.6)",
           "rgba(249, 65, 68, 0.6)",
           "rgba(249, 199, 79, 0.6)",
           "rgba(249, 65, 68, 0.6)",
           "rgba(249, 199, 79, 0.6)",
           "rgba(173, 181, 189, 0.6)",
           "rgba(249, 199, 79, 0.6)",
           "rgba(249, 65, 68, 0.6)",
           "rgba(0, 0, 0, 0.6)",
           "rgba(249, 65, 68, 0.6)",
           "rgba(249, 199, 79, 0.6)",
           "rgba(249, 199, 79, 0.6)",
           "rgba(67, 170, 139, 0.6)",
           "rgba(249, 65, 68, 0.6)",
           "rgba(67, 170, 139, 0.6)",
           "rgba(67, 170, 139, 0.6)",
           "rgba(67, 170, 139, 0.6)"
          ],
          "source": [
           0,
           0,
           0,
           0,
           0,
           0,
           0,
           2,
           2,
           2,
           3,
           4,
           4,
           5,
           6,
           4,
           7,
           5,
           4,
           8,
           8,
           8,
           6,
           16,
           16,
           10,
           16,
           16,
           10,
           10,
           13,
           12,
           12
          ],
          "target": [
           4,
           2,
           3,
           6,
           8,
           5,
           7,
           14,
           1,
           16,
           1,
           1,
           14,
           1,
           1,
           10,
           1,
           14,
           16,
           14,
           10,
           1,
           16,
           14,
           11,
           14,
           10,
           13,
           12,
           14,
           12,
           9,
           15
          ],
          "value": [
           78,
           48,
           21,
           8,
           5,
           2,
           2,
           13,
           33,
           2,
           21,
           62,
           12,
           1,
           7,
           2,
           2,
           1,
           2,
           3,
           1,
           1,
           1,
           1,
           1,
           2,
           2,
           1,
           1,
           1,
           1,
           1,
           1
          ]
         },
         "node": {
          "color": [
           "rgba(39, 125, 161, 1)",
           "rgba(173, 181, 189, 1)",
           "rgba(39, 125, 161, 1)",
           "rgba(39, 125, 161, 1)",
           "rgba(39, 125, 161, 1)",
           "rgba(39, 125, 161, 1)",
           "rgba(39, 125, 161, 1)",
           "rgba(39, 125, 161, 1)",
           "rgba(39, 125, 161, 1)",
           "rgba(67, 170, 139, 1)",
           "rgba(249, 199, 79, 1)",
           "rgba(0, 0, 0, 1)",
           "rgba(67, 170, 139, 1)",
           "rgba(249, 199, 79, 1)",
           "rgba(249, 65, 68, 1)",
           "rgba(67, 170, 139, 1)",
           "rgba(249, 199, 79, 1)"
          ],
          "label": [
           "Applications: 164",
           "No reply: 127",
           "LinkedIn: 48",
           "NUS TalentConnect: 21",
           "Indeed: 78",
           "Friends: 2",
           "NUS SWS: 8",
           "Email: 2",
           "NUS IAAS: 5",
           "Accepted: 1",
           "Online Interview: 5",
           "DNF: 1",
           "Offered: 2",
           "On-site Interview: 1",
           "Rejected: 33",
           "Declined: 1",
           "Technical Assessment: 5"
          ],
          "pad": 20,
          "thickness": 10,
          "x": [
           0.1,
           0.6,
           0.3,
           0.3,
           0.3,
           0.3,
           0.3,
           0.3,
           0.3,
           0.9,
           0.6,
           0.65,
           0.8,
           0.6,
           0.5,
           0.85,
           0.55
          ],
          "y": [
           0.5,
           0.1,
           0.1,
           0.1,
           0.1,
           0.1,
           0.1,
           0.1,
           0.1,
           0.65,
           0.725,
           0.85,
           0.7,
           0.675,
           0.9,
           0.75,
           0.7
          ]
         },
         "type": "sankey",
         "valueformat": ".0f"
        }
       ],
       "layout": {
        "annotations": [
         {
          "showarrow": false,
          "text": "caa 07 Aug 2024",
          "x": 0.5,
          "xref": "paper",
          "y": 1.07,
          "yref": "paper"
         }
        ],
        "font": {
         "family": "Helvetica",
         "size": 14
        },
        "height": 800,
        "template": {
         "data": {
          "bar": [
           {
            "error_x": {
             "color": "#2a3f5f"
            },
            "error_y": {
             "color": "#2a3f5f"
            },
            "marker": {
             "line": {
              "color": "#E5ECF6",
              "width": 0.5
             },
             "pattern": {
              "fillmode": "overlay",
              "size": 10,
              "solidity": 0.2
             }
            },
            "type": "bar"
           }
          ],
          "barpolar": [
           {
            "marker": {
             "line": {
              "color": "#E5ECF6",
              "width": 0.5
             },
             "pattern": {
              "fillmode": "overlay",
              "size": 10,
              "solidity": 0.2
             }
            },
            "type": "barpolar"
           }
          ],
          "carpet": [
           {
            "aaxis": {
             "endlinecolor": "#2a3f5f",
             "gridcolor": "white",
             "linecolor": "white",
             "minorgridcolor": "white",
             "startlinecolor": "#2a3f5f"
            },
            "baxis": {
             "endlinecolor": "#2a3f5f",
             "gridcolor": "white",
             "linecolor": "white",
             "minorgridcolor": "white",
             "startlinecolor": "#2a3f5f"
            },
            "type": "carpet"
           }
          ],
          "choropleth": [
           {
            "colorbar": {
             "outlinewidth": 0,
             "ticks": ""
            },
            "type": "choropleth"
           }
          ],
          "contour": [
           {
            "colorbar": {
             "outlinewidth": 0,
             "ticks": ""
            },
            "colorscale": [
             [
              0,
              "#0d0887"
             ],
             [
              0.1111111111111111,
              "#46039f"
             ],
             [
              0.2222222222222222,
              "#7201a8"
             ],
             [
              0.3333333333333333,
              "#9c179e"
             ],
             [
              0.4444444444444444,
              "#bd3786"
             ],
             [
              0.5555555555555556,
              "#d8576b"
             ],
             [
              0.6666666666666666,
              "#ed7953"
             ],
             [
              0.7777777777777778,
              "#fb9f3a"
             ],
             [
              0.8888888888888888,
              "#fdca26"
             ],
             [
              1,
              "#f0f921"
             ]
            ],
            "type": "contour"
           }
          ],
          "contourcarpet": [
           {
            "colorbar": {
             "outlinewidth": 0,
             "ticks": ""
            },
            "type": "contourcarpet"
           }
          ],
          "heatmap": [
           {
            "colorbar": {
             "outlinewidth": 0,
             "ticks": ""
            },
            "colorscale": [
             [
              0,
              "#0d0887"
             ],
             [
              0.1111111111111111,
              "#46039f"
             ],
             [
              0.2222222222222222,
              "#7201a8"
             ],
             [
              0.3333333333333333,
              "#9c179e"
             ],
             [
              0.4444444444444444,
              "#bd3786"
             ],
             [
              0.5555555555555556,
              "#d8576b"
             ],
             [
              0.6666666666666666,
              "#ed7953"
             ],
             [
              0.7777777777777778,
              "#fb9f3a"
             ],
             [
              0.8888888888888888,
              "#fdca26"
             ],
             [
              1,
              "#f0f921"
             ]
            ],
            "type": "heatmap"
           }
          ],
          "heatmapgl": [
           {
            "colorbar": {
             "outlinewidth": 0,
             "ticks": ""
            },
            "colorscale": [
             [
              0,
              "#0d0887"
             ],
             [
              0.1111111111111111,
              "#46039f"
             ],
             [
              0.2222222222222222,
              "#7201a8"
             ],
             [
              0.3333333333333333,
              "#9c179e"
             ],
             [
              0.4444444444444444,
              "#bd3786"
             ],
             [
              0.5555555555555556,
              "#d8576b"
             ],
             [
              0.6666666666666666,
              "#ed7953"
             ],
             [
              0.7777777777777778,
              "#fb9f3a"
             ],
             [
              0.8888888888888888,
              "#fdca26"
             ],
             [
              1,
              "#f0f921"
             ]
            ],
            "type": "heatmapgl"
           }
          ],
          "histogram": [
           {
            "marker": {
             "pattern": {
              "fillmode": "overlay",
              "size": 10,
              "solidity": 0.2
             }
            },
            "type": "histogram"
           }
          ],
          "histogram2d": [
           {
            "colorbar": {
             "outlinewidth": 0,
             "ticks": ""
            },
            "colorscale": [
             [
              0,
              "#0d0887"
             ],
             [
              0.1111111111111111,
              "#46039f"
             ],
             [
              0.2222222222222222,
              "#7201a8"
             ],
             [
              0.3333333333333333,
              "#9c179e"
             ],
             [
              0.4444444444444444,
              "#bd3786"
             ],
             [
              0.5555555555555556,
              "#d8576b"
             ],
             [
              0.6666666666666666,
              "#ed7953"
             ],
             [
              0.7777777777777778,
              "#fb9f3a"
             ],
             [
              0.8888888888888888,
              "#fdca26"
             ],
             [
              1,
              "#f0f921"
             ]
            ],
            "type": "histogram2d"
           }
          ],
          "histogram2dcontour": [
           {
            "colorbar": {
             "outlinewidth": 0,
             "ticks": ""
            },
            "colorscale": [
             [
              0,
              "#0d0887"
             ],
             [
              0.1111111111111111,
              "#46039f"
             ],
             [
              0.2222222222222222,
              "#7201a8"
             ],
             [
              0.3333333333333333,
              "#9c179e"
             ],
             [
              0.4444444444444444,
              "#bd3786"
             ],
             [
              0.5555555555555556,
              "#d8576b"
             ],
             [
              0.6666666666666666,
              "#ed7953"
             ],
             [
              0.7777777777777778,
              "#fb9f3a"
             ],
             [
              0.8888888888888888,
              "#fdca26"
             ],
             [
              1,
              "#f0f921"
             ]
            ],
            "type": "histogram2dcontour"
           }
          ],
          "mesh3d": [
           {
            "colorbar": {
             "outlinewidth": 0,
             "ticks": ""
            },
            "type": "mesh3d"
           }
          ],
          "parcoords": [
           {
            "line": {
             "colorbar": {
              "outlinewidth": 0,
              "ticks": ""
             }
            },
            "type": "parcoords"
           }
          ],
          "pie": [
           {
            "automargin": true,
            "type": "pie"
           }
          ],
          "scatter": [
           {
            "fillpattern": {
             "fillmode": "overlay",
             "size": 10,
             "solidity": 0.2
            },
            "type": "scatter"
           }
          ],
          "scatter3d": [
           {
            "line": {
             "colorbar": {
              "outlinewidth": 0,
              "ticks": ""
             }
            },
            "marker": {
             "colorbar": {
              "outlinewidth": 0,
              "ticks": ""
             }
            },
            "type": "scatter3d"
           }
          ],
          "scattercarpet": [
           {
            "marker": {
             "colorbar": {
              "outlinewidth": 0,
              "ticks": ""
             }
            },
            "type": "scattercarpet"
           }
          ],
          "scattergeo": [
           {
            "marker": {
             "colorbar": {
              "outlinewidth": 0,
              "ticks": ""
             }
            },
            "type": "scattergeo"
           }
          ],
          "scattergl": [
           {
            "marker": {
             "colorbar": {
              "outlinewidth": 0,
              "ticks": ""
             }
            },
            "type": "scattergl"
           }
          ],
          "scattermapbox": [
           {
            "marker": {
             "colorbar": {
              "outlinewidth": 0,
              "ticks": ""
             }
            },
            "type": "scattermapbox"
           }
          ],
          "scatterpolar": [
           {
            "marker": {
             "colorbar": {
              "outlinewidth": 0,
              "ticks": ""
             }
            },
            "type": "scatterpolar"
           }
          ],
          "scatterpolargl": [
           {
            "marker": {
             "colorbar": {
              "outlinewidth": 0,
              "ticks": ""
             }
            },
            "type": "scatterpolargl"
           }
          ],
          "scatterternary": [
           {
            "marker": {
             "colorbar": {
              "outlinewidth": 0,
              "ticks": ""
             }
            },
            "type": "scatterternary"
           }
          ],
          "surface": [
           {
            "colorbar": {
             "outlinewidth": 0,
             "ticks": ""
            },
            "colorscale": [
             [
              0,
              "#0d0887"
             ],
             [
              0.1111111111111111,
              "#46039f"
             ],
             [
              0.2222222222222222,
              "#7201a8"
             ],
             [
              0.3333333333333333,
              "#9c179e"
             ],
             [
              0.4444444444444444,
              "#bd3786"
             ],
             [
              0.5555555555555556,
              "#d8576b"
             ],
             [
              0.6666666666666666,
              "#ed7953"
             ],
             [
              0.7777777777777778,
              "#fb9f3a"
             ],
             [
              0.8888888888888888,
              "#fdca26"
             ],
             [
              1,
              "#f0f921"
             ]
            ],
            "type": "surface"
           }
          ],
          "table": [
           {
            "cells": {
             "fill": {
              "color": "#EBF0F8"
             },
             "line": {
              "color": "white"
             }
            },
            "header": {
             "fill": {
              "color": "#C8D4E3"
             },
             "line": {
              "color": "white"
             }
            },
            "type": "table"
           }
          ]
         },
         "layout": {
          "annotationdefaults": {
           "arrowcolor": "#2a3f5f",
           "arrowhead": 0,
           "arrowwidth": 1
          },
          "autotypenumbers": "strict",
          "coloraxis": {
           "colorbar": {
            "outlinewidth": 0,
            "ticks": ""
           }
          },
          "colorscale": {
           "diverging": [
            [
             0,
             "#8e0152"
            ],
            [
             0.1,
             "#c51b7d"
            ],
            [
             0.2,
             "#de77ae"
            ],
            [
             0.3,
             "#f1b6da"
            ],
            [
             0.4,
             "#fde0ef"
            ],
            [
             0.5,
             "#f7f7f7"
            ],
            [
             0.6,
             "#e6f5d0"
            ],
            [
             0.7,
             "#b8e186"
            ],
            [
             0.8,
             "#7fbc41"
            ],
            [
             0.9,
             "#4d9221"
            ],
            [
             1,
             "#276419"
            ]
           ],
           "sequential": [
            [
             0,
             "#0d0887"
            ],
            [
             0.1111111111111111,
             "#46039f"
            ],
            [
             0.2222222222222222,
             "#7201a8"
            ],
            [
             0.3333333333333333,
             "#9c179e"
            ],
            [
             0.4444444444444444,
             "#bd3786"
            ],
            [
             0.5555555555555556,
             "#d8576b"
            ],
            [
             0.6666666666666666,
             "#ed7953"
            ],
            [
             0.7777777777777778,
             "#fb9f3a"
            ],
            [
             0.8888888888888888,
             "#fdca26"
            ],
            [
             1,
             "#f0f921"
            ]
           ],
           "sequentialminus": [
            [
             0,
             "#0d0887"
            ],
            [
             0.1111111111111111,
             "#46039f"
            ],
            [
             0.2222222222222222,
             "#7201a8"
            ],
            [
             0.3333333333333333,
             "#9c179e"
            ],
            [
             0.4444444444444444,
             "#bd3786"
            ],
            [
             0.5555555555555556,
             "#d8576b"
            ],
            [
             0.6666666666666666,
             "#ed7953"
            ],
            [
             0.7777777777777778,
             "#fb9f3a"
            ],
            [
             0.8888888888888888,
             "#fdca26"
            ],
            [
             1,
             "#f0f921"
            ]
           ]
          },
          "colorway": [
           "#636efa",
           "#EF553B",
           "#00cc96",
           "#ab63fa",
           "#FFA15A",
           "#19d3f3",
           "#FF6692",
           "#B6E880",
           "#FF97FF",
           "#FECB52"
          ],
          "font": {
           "color": "#2a3f5f"
          },
          "geo": {
           "bgcolor": "white",
           "lakecolor": "white",
           "landcolor": "#E5ECF6",
           "showlakes": true,
           "showland": true,
           "subunitcolor": "white"
          },
          "hoverlabel": {
           "align": "left"
          },
          "hovermode": "closest",
          "mapbox": {
           "style": "light"
          },
          "paper_bgcolor": "white",
          "plot_bgcolor": "#E5ECF6",
          "polar": {
           "angularaxis": {
            "gridcolor": "white",
            "linecolor": "white",
            "ticks": ""
           },
           "bgcolor": "#E5ECF6",
           "radialaxis": {
            "gridcolor": "white",
            "linecolor": "white",
            "ticks": ""
           }
          },
          "scene": {
           "xaxis": {
            "backgroundcolor": "#E5ECF6",
            "gridcolor": "white",
            "gridwidth": 2,
            "linecolor": "white",
            "showbackground": true,
            "ticks": "",
            "zerolinecolor": "white"
           },
           "yaxis": {
            "backgroundcolor": "#E5ECF6",
            "gridcolor": "white",
            "gridwidth": 2,
            "linecolor": "white",
            "showbackground": true,
            "ticks": "",
            "zerolinecolor": "white"
           },
           "zaxis": {
            "backgroundcolor": "#E5ECF6",
            "gridcolor": "white",
            "gridwidth": 2,
            "linecolor": "white",
            "showbackground": true,
            "ticks": "",
            "zerolinecolor": "white"
           }
          },
          "shapedefaults": {
           "line": {
            "color": "#2a3f5f"
           }
          },
          "ternary": {
           "aaxis": {
            "gridcolor": "white",
            "linecolor": "white",
            "ticks": ""
           },
           "baxis": {
            "gridcolor": "white",
            "linecolor": "white",
            "ticks": ""
           },
           "bgcolor": "#E5ECF6",
           "caxis": {
            "gridcolor": "white",
            "linecolor": "white",
            "ticks": ""
           }
          },
          "title": {
           "x": 0.05
          },
          "xaxis": {
           "automargin": true,
           "gridcolor": "white",
           "linecolor": "white",
           "ticks": "",
           "title": {
            "standoff": 15
           },
           "zerolinecolor": "white",
           "zerolinewidth": 2
          },
          "yaxis": {
           "automargin": true,
           "gridcolor": "white",
           "linecolor": "white",
           "ticks": "",
           "title": {
            "standoff": 15
           },
           "zerolinecolor": "white",
           "zerolinewidth": 2
          }
         }
        },
        "title": {
         "font": {
          "family": "Helvetica",
          "size": 30
         },
         "text": "Dylan's Internship Applications as a Y2 CS Undergrad",
         "x": 0.5,
         "xanchor": "center"
        },
        "width": 1200
       }
      }
     },
     "metadata": {},
     "output_type": "display_data"
    }
   ],
   "source": [
    "# Plot Sankey Diagram\n",
    "fig = go.Figure(data=[go.Sankey(\n",
    "    valueformat = \".0f\",\n",
    "    arrangement = \"snap\",\n",
    "    node = dict(\n",
    "      pad = 20,\n",
    "      thickness = 10,\n",
    "      label = unique_nodes_with_values,\n",
    "      color = node_colors,\n",
    "      x = node_x_pos,\n",
    "      y = node_y_pos\n",
    "    ),\n",
    "    link = dict(\n",
    "      source = sankey_df['source'].to_list(),\n",
    "      target = sankey_df['target'].to_list(),\n",
    "      value = sankey_df['value'].to_list(),\n",
    "      color = link_colors\n",
    "  ))])\n",
    "\n",
    "fig.update_layout(title_text=\"Dylan's Internship Applications as a Y2 CS Undergrad\", title_xanchor='center', title_x=0.5, title_font_size=30, title_font_family='Helvetica',\n",
    "                  font_size=14, font_family='Helvetica',\n",
    "                  annotations=[dict(x=0.5, y=1.07, showarrow=False, text=f\"caa {datetime.today().date().strftime('%d %b %Y')}\", xref=\"paper\", yref=\"paper\")],\n",
    "                  width=1200, height=800)\n",
    "fig.show()"
   ]
  },
  {
   "cell_type": "code",
   "execution_count": 10,
   "metadata": {},
   "outputs": [],
   "source": [
    "# Export to png\n",
    "fig.write_image(f\"data/output/Internship Applications Sankey Diagram {datetime.today().date().strftime('%d%m%y')}.png\")"
   ]
  },
  {
   "cell_type": "code",
   "execution_count": 11,
   "metadata": {},
   "outputs": [],
   "source": [
    "# (Optional) Export to html\n",
    "# fig.write_html(f\"data/output/Internship Applications Sankey Diagram {datetime.today().date().strftime('%d%m%y')}.html\")"
   ]
  }
 ],
 "metadata": {
  "kernelspec": {
   "display_name": "it_venv",
   "language": "python",
   "name": "python3"
  },
  "language_info": {
   "codemirror_mode": {
    "name": "ipython",
    "version": 3
   },
   "file_extension": ".py",
   "mimetype": "text/x-python",
   "name": "python",
   "nbconvert_exporter": "python",
   "pygments_lexer": "ipython3",
   "version": "3.10.2"
  }
 },
 "nbformat": 4,
 "nbformat_minor": 2
}
